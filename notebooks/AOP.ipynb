{
 "cells": [
  {
   "cell_type": "markdown",
   "metadata": {},
   "source": [
    "# Decorator #1 - Memoization\n",
    "\n",
    "Classic example - Fibonacci series\n",
    "---"
   ]
  },
  {
   "cell_type": "code",
   "execution_count": 1,
   "metadata": {},
   "outputs": [
    {
     "name": "stdout",
     "output_type": "stream",
     "text": [
      "448 ms ± 9.5 ms per loop (mean ± std. dev. of 7 runs, 1 loop each)\n"
     ]
    }
   ],
   "source": [
    "def fibonacci(n):\n",
    "    if n<2:\n",
    "        return 1\n",
    "    return fibonacci(n-1) + fibonacci(n-2)\n",
    "    \n",
    "%timeit fibonacci(30) "
   ]
  },
  {
   "cell_type": "code",
   "execution_count": 2,
   "metadata": {},
   "outputs": [
    {
     "name": "stdout",
     "output_type": "stream",
     "text": [
      "126 ns ± 1.08 ns per loop (mean ± std. dev. of 7 runs, 10000000 loops each)\n"
     ]
    }
   ],
   "source": [
    "from functools import lru_cache\n",
    "\n",
    "@lru_cache(maxsize=None)\n",
    "def fibonacci_c(n):\n",
    "    if n<2:\n",
    "        return 1\n",
    "    return fibonacci_c(n-1) + fibonacci_c(n-2)\n",
    "\n",
    "%timeit fibonacci_c(30) "
   ]
  },
  {
   "cell_type": "markdown",
   "metadata": {},
   "source": [
    "Levinstein distance\n",
    "---\n",
    "\n",
    "The minimal number of deletion & insertions between two words\n",
    "\n",
    "### Example:\n",
    "\n",
    "\"reshape\"$\\rightarrow$\"~~r~~eshape\"$\\rightarrow$\"~~re~~shape\"$\\rightarrow$\"~~re~~shape**s**\"$\\rightarrow$\"shapes\"\n",
    "\n",
    "__Distance__:\n",
    "    1. Two Deletions (Charaters r & e)\n",
    "    2. One Insertion (s)\n",
    "    3. Levinstein Distance of 3\n"
   ]
  },
  {
   "cell_type": "code",
   "execution_count": 3,
   "metadata": {
    "collapsed": true
   },
   "outputs": [],
   "source": [
    "def levinstein(a, b):\n",
    "    if a==b:\n",
    "        return 0\n",
    "    if not any(a):\n",
    "        return len(b)\n",
    "    if not any(b):\n",
    "        return len(a)\n",
    "    if a[0]==b[0]:\n",
    "        return levinstein(a[1:],b[1:])\n",
    "    return 1+min(levinstein(a,b[1:]), levinstein(a[1:],b))\n",
    "    "
   ]
  },
  {
   "cell_type": "markdown",
   "metadata": {},
   "source": [
    "Test on real data\n",
    "---"
   ]
  },
  {
   "cell_type": "code",
   "execution_count": 37,
   "metadata": {},
   "outputs": [
    {
     "data": {
      "text/plain": [
       "['desegmented',\n",
       " 'aloneness',\n",
       " 'pundit',\n",
       " 'klip',\n",
       " 'hanbalite',\n",
       " 'asellate',\n",
       " 'phytoserological',\n",
       " 'affiant',\n",
       " 'antireforming',\n",
       " 'ciconiae']"
      ]
     },
     "execution_count": 37,
     "metadata": {},
     "output_type": "execute_result"
    }
   ],
   "source": [
    "with open(\"/usr/share/dict/words\", 'r') as f:\n",
    "    words = list(filter(lambda w: len(w)>2,map(lambda w: w.strip().lower(), f.readlines())))\n",
    "import random\n",
    "random_words = random.sample(words, 10)\n",
    "random_words"
   ]
  },
  {
   "cell_type": "code",
   "execution_count": 5,
   "metadata": {
    "collapsed": true
   },
   "outputs": [],
   "source": [
    "@lru_cache(maxsize=None)\n",
    "def levinstein_cached(a, b):\n",
    "    if a==b:\n",
    "        return 0\n",
    "    if not any(a):\n",
    "        return len(b)\n",
    "    if not any(b):\n",
    "        return len(a)\n",
    "    if a[0]==b[0]:\n",
    "        return levinstein_cached(a[1:],b[1:])\n",
    "    return 1+min(levinstein_cached(a,b[1:]), levinstein_cached(a[1:],b))"
   ]
  },
  {
   "cell_type": "code",
   "execution_count": 6,
   "metadata": {},
   "outputs": [],
   "source": [
    "def time_on_random_words(f):\n",
    "    import time\n",
    "    startTime = int(round(time.time() * 1000))\n",
    "    for w1 in random_words:\n",
    "        for w2 in random_words:\n",
    "            f(w1, w2)\n",
    "    endTime = int(round(time.time() * 1000))\n",
    "    return \"{t} ms\".format(t=endTime - startTime)"
   ]
  },
  {
   "cell_type": "code",
   "execution_count": 7,
   "metadata": {},
   "outputs": [
    {
     "name": "stdout",
     "output_type": "stream",
     "text": [
      "38842 ms\n",
      "10 ms\n"
     ]
    }
   ],
   "source": [
    "print (time_on_random_words(levinstein))\n",
    "print (time_on_random_words(levinstein_cached))"
   ]
  },
  {
   "cell_type": "markdown",
   "metadata": {},
   "source": [
    "# Decorator #2 - Json Caching\n",
    "\n",
    "Lets try and implement a caching decorator that saves intermediate results in a json file"
   ]
  },
  {
   "cell_type": "code",
   "execution_count": 8,
   "metadata": {},
   "outputs": [],
   "source": [
    "import json\n",
    "import os\n",
    "\n",
    "def json_file(fname):\n",
    "    def decorator(function):\n",
    "        def wrapper(*args, **kwargs):\n",
    "            if os.path.isfile(fname):\n",
    "                with open(fname, 'r') as f:\n",
    "                    ret = json.load(f)\n",
    "            else:\n",
    "                with open(fname,'w') as f:\n",
    "                    ret = function(*args, **kwargs)\n",
    "                    json.dump(ret, f)\n",
    "            return ret\n",
    "        return wrapper\n",
    "    return decorator"
   ]
  },
  {
   "cell_type": "code",
   "execution_count": 9,
   "metadata": {},
   "outputs": [],
   "source": [
    "import time\n",
    "\n",
    "@json_file(\"cached.json\")\n",
    "def calculation():\n",
    "    time.sleep(2)\n",
    "    return 1+1"
   ]
  },
  {
   "cell_type": "code",
   "execution_count": 32,
   "metadata": {},
   "outputs": [
    {
     "name": "stdout",
     "output_type": "stream",
     "text": [
      "2\n"
     ]
    }
   ],
   "source": [
    "print (calculation())"
   ]
  },
  {
   "cell_type": "markdown",
   "metadata": {},
   "source": [
    "Using arguments for filename\n",
    "---"
   ]
  },
  {
   "cell_type": "code",
   "execution_count": 33,
   "metadata": {},
   "outputs": [
    {
     "data": {
      "text/plain": [
       "8"
      ]
     },
     "execution_count": 33,
     "metadata": {},
     "output_type": "execute_result"
    }
   ],
   "source": [
    "from fs_cache import *\n",
    "\n",
    "@json_file(\"fib_{n}.json\")\n",
    "def fibonacci_j(n):\n",
    "    if n<2:\n",
    "        return 1\n",
    "    return fibonacci_j(n-1) + fibonacci_j(n-2)\n",
    "\n",
    "fibonacci_j(5)"
   ]
  },
  {
   "cell_type": "markdown",
   "metadata": {},
   "source": [
    "# Inspect module\n",
    "\n",
    "Python argument types\n",
    "---"
   ]
  },
  {
   "cell_type": "code",
   "execution_count": 38,
   "metadata": {},
   "outputs": [],
   "source": [
    "import inspect\n",
    "def sum3_named(a,b,c=3):\n",
    "    return a+b+c\n",
    "\n",
    "def sum3_positional(*args):\n",
    "    return args[0]+args[1]+(args[2] if len(args)>2 else 3)\n",
    "\n",
    "def sum3_keyvalue(**kwargs):\n",
    "    return kwargs[\"a\"]+kwargs[\"b\"]+kwargs.get(\"c\", 3)"
   ]
  },
  {
   "cell_type": "markdown",
   "metadata": {},
   "source": [
    "Both functions have the same functionality, the only difference is the signature"
   ]
  },
  {
   "cell_type": "code",
   "execution_count": 39,
   "metadata": {},
   "outputs": [],
   "source": [
    "assert sum3_named(1,2,3) == sum3_positional(1,2,3) == sum3_keyvalue(a=1,b=2,c=3)"
   ]
  },
  {
   "cell_type": "markdown",
   "metadata": {},
   "source": [
    "And we can mix them up:"
   ]
  },
  {
   "cell_type": "code",
   "execution_count": 45,
   "metadata": {},
   "outputs": [],
   "source": [
    "def sum3_named_and_args_and_keyval(a,*args,**kwargs):\n",
    "    return a + args[0] + kwargs.get(\"c\", 3)\n"
   ]
  },
  {
   "cell_type": "markdown",
   "metadata": {},
   "source": [
    "When decorating a function, We would to\n",
    "---\n",
    "    1. Abstract away the argument type\n",
    "    2. Use keyvalue argument type for our decorator"
   ]
  },
  {
   "cell_type": "markdown",
   "metadata": {},
   "source": [
    "Binding function parameters\n",
    "---\n",
    "`signature` helps us bind positional, names, and key-value arguments, regardless of their type to another function"
   ]
  },
  {
   "cell_type": "code",
   "execution_count": 40,
   "metadata": {},
   "outputs": [
    {
     "name": "stdout",
     "output_type": "stream",
     "text": [
      "(a, b, c=3)\n",
      "OrderedDict([('a', 1), ('b', 2), ('c', 3)])\n"
     ]
    }
   ],
   "source": [
    "print (inspect.signature(sum3_named))\n",
    "print (inspect.signature(sum3_named).bind(1,2,3).arguments)"
   ]
  },
  {
   "cell_type": "markdown",
   "metadata": {},
   "source": [
    "Applying `sum3_named`'s parameters to `sum3_keyvalue`"
   ]
  },
  {
   "cell_type": "code",
   "execution_count": 46,
   "metadata": {},
   "outputs": [
    {
     "name": "stdout",
     "output_type": "stream",
     "text": [
      "6\n"
     ]
    }
   ],
   "source": [
    "kwargs = inspect.signature(sum3_named).bind(1,2,3).arguments\n",
    "print ( sum3_keyvalue(**kwargs))"
   ]
  },
  {
   "cell_type": "markdown",
   "metadata": {},
   "source": [
    "Using Inspect to use filename templates\n",
    "---"
   ]
  },
  {
   "cell_type": "code",
   "execution_count": 16,
   "metadata": {
    "collapsed": true
   },
   "outputs": [],
   "source": [
    "import json, os, inspect\n",
    "\n",
    "def json_file(fname):\n",
    "    def decorator(function):\n",
    "        signature= inspect.signature(function)\n",
    "        def wrapper(*args, **kwargs):\n",
    "            file_name= fname.format(**signature.bind(*args, **kwargs).arguments)\n",
    "            if os.path.isfile(file_name):\n",
    "                with open(file_name, 'r') as f:\n",
    "                    ret = json.load(f)\n",
    "            else:\n",
    "                with open(file_name,'w') as f:\n",
    "                    ret = function(*args, **kwargs)\n",
    "                    json.dump(ret, f)\n",
    "            return ret\n",
    "        return wrapper\n",
    "    return decorator"
   ]
  },
  {
   "cell_type": "markdown",
   "metadata": {},
   "source": [
    "# Reading a function's code:"
   ]
  },
  {
   "cell_type": "code",
   "execution_count": 17,
   "metadata": {},
   "outputs": [
    {
     "name": "stdout",
     "output_type": "stream",
     "text": [
      "def f(a,b,c=3):\n",
      "    return a+b+c\n",
      "\n"
     ]
    }
   ],
   "source": [
    "print(inspect.getsource(f))"
   ]
  },
  {
   "cell_type": "markdown",
   "metadata": {},
   "source": [
    "# Decorator #3 - Remote SSH\n",
    "\n",
    "I wrapped the famous \"paramiko\" ssh client and made it more convinient for jupyter notebooks"
   ]
  },
  {
   "cell_type": "code",
   "execution_count": 18,
   "metadata": {},
   "outputs": [],
   "source": [
    "import json\n",
    "from ssh import ssh_connect"
   ]
  },
  {
   "cell_type": "code",
   "execution_count": 19,
   "metadata": {
    "collapsed": true
   },
   "outputs": [],
   "source": [
    "with open(\"ssh.json\",\"r\") as f:\n",
    "    credentials = json.load(f)"
   ]
  },
  {
   "cell_type": "code",
   "execution_count": 20,
   "metadata": {},
   "outputs": [],
   "source": [
    "myserver = ssh_connect(credentials[\"user\"],credentials[\"pass\"],credentials[\"server\"])"
   ]
  },
  {
   "cell_type": "markdown",
   "metadata": {},
   "source": [
    "**Get current path**"
   ]
  },
  {
   "cell_type": "code",
   "execution_count": 21,
   "metadata": {},
   "outputs": [
    {
     "data": {
      "text/plain": [
       "'/Users/urig/Documents/AOP'"
      ]
     },
     "execution_count": 21,
     "metadata": {},
     "output_type": "execute_result"
    }
   ],
   "source": [
    "def local_call():\n",
    "    import os\n",
    "    return os.getcwd()\n",
    "\n",
    "local_call()"
   ]
  },
  {
   "cell_type": "code",
   "execution_count": 22,
   "metadata": {},
   "outputs": [
    {
     "data": {
      "text/plain": [
       "'/home/urig'"
      ]
     },
     "execution_count": 22,
     "metadata": {},
     "output_type": "execute_result"
    }
   ],
   "source": [
    "@myserver\n",
    "def remote_call():\n",
    "    import os\n",
    "    return os.getcwd()\n",
    "\n",
    "remote_call()"
   ]
  },
  {
   "cell_type": "markdown",
   "metadata": {},
   "source": [
    "Equivalent to:\n",
    "`remote_call=myserver(local_call)`\n",
    "\n",
    "**Bash Execution**"
   ]
  },
  {
   "cell_type": "code",
   "execution_count": 23,
   "metadata": {},
   "outputs": [
    {
     "name": "stdout",
     "output_type": "stream",
     "text": [
      "pwd\r\n",
      "/home/urig\r\n",
      "python-ssh:\n"
     ]
    }
   ],
   "source": [
    "myserver>>\"pwd\""
   ]
  },
  {
   "cell_type": "markdown",
   "metadata": {},
   "source": [
    "# Decorator #4 - Regression Testing"
   ]
  },
  {
   "cell_type": "code",
   "execution_count": 24,
   "metadata": {
    "collapsed": true
   },
   "outputs": [],
   "source": [
    "from regres_test import regress\n",
    "r=regress()\n",
    "@r.record\n",
    "def fibonacci(n):\n",
    "    if n<=2:\n",
    "        return 1\n",
    "    return fibonacci(n-1) + fibonacci(n-2)"
   ]
  },
  {
   "cell_type": "code",
   "execution_count": 25,
   "metadata": {},
   "outputs": [],
   "source": [
    "for i in range(4):\n",
    "    fibonacci(i)"
   ]
  },
  {
   "cell_type": "code",
   "execution_count": 26,
   "metadata": {},
   "outputs": [
    {
     "data": {
      "text/plain": [
       "[(OrderedDict([('n', 0)]), 1),\n",
       " (OrderedDict([('n', 1)]), 1),\n",
       " (OrderedDict([('n', 2)]), 1),\n",
       " (OrderedDict([('n', 3)]), 2)]"
      ]
     },
     "execution_count": 26,
     "metadata": {},
     "output_type": "execute_result"
    }
   ],
   "source": [
    "r.tests"
   ]
  },
  {
   "cell_type": "code",
   "execution_count": 27,
   "metadata": {},
   "outputs": [],
   "source": [
    "def fibonacci_formula(n):\n",
    "    phi = (5**0.5+1)/2.0\n",
    "    return (phi**n-(-phi)**(-n))/(5**0.5)"
   ]
  },
  {
   "cell_type": "code",
   "execution_count": 28,
   "metadata": {},
   "outputs": [
    {
     "name": "stdout",
     "output_type": "stream",
     "text": [
      "Functions differ on: n=0 \n"
     ]
    }
   ],
   "source": [
    "r.replay(fibonacci_formula)"
   ]
  },
  {
   "cell_type": "markdown",
   "metadata": {},
   "source": [
    "# Decorator #5 - Easy Interactive Graphs"
   ]
  },
  {
   "cell_type": "code",
   "execution_count": 35,
   "metadata": {},
   "outputs": [
    {
     "data": {},
     "metadata": {},
     "output_type": "display_data"
    }
   ],
   "source": [
    "from ipywidgets import interact\n",
    "@interact(n=(0.0,100.0))\n",
    "def sqrt(n):\n",
    "    return n**0.5"
   ]
  },
  {
   "cell_type": "code",
   "execution_count": 30,
   "metadata": {},
   "outputs": [
    {
     "name": "stderr",
     "output_type": "stream",
     "text": [
      "Widget Javascript not detected.  It may not be installed or enabled properly.\n"
     ]
    },
    {
     "data": {},
     "metadata": {},
     "output_type": "display_data"
    }
   ],
   "source": [
    "%matplotlib inline\n",
    "from ipywidgets import interact\n",
    "from ipykernel.pylab.backend_inline import flush_figures\n",
    "from matplotlib import pyplot as plt\n",
    "import numpy as np\n",
    "\n",
    "\n",
    "@interact(sigma=(0.0,3.0))\n",
    "def igraph(sigma):\n",
    "    \"\"\"Plots a gaussian whose stadtard deviation is controller from a jupyter widget\"\"\"\n",
    "    x = np.linspace(-2,2,100)\n",
    "    f = lambda t: np.exp(-t**2/(sigma**2))\n",
    "    y = [f(p) for p in x]\n",
    "    fig = plt.plot(x,y)\n",
    "    plt.xlim((-2,2))\n",
    "    plt.ylim((0,1))\n",
    "    flush_figures()"
   ]
  },
  {
   "cell_type": "markdown",
   "metadata": {},
   "source": [
    "All code available at:\n",
    "https://github.com/urigoren/pycon2017IL"
   ]
  }
 ],
 "metadata": {
  "kernelspec": {
   "display_name": "Python 3",
   "language": "python",
   "name": "python3"
  },
  "language_info": {
   "codemirror_mode": {
    "name": "ipython",
    "version": 3
   },
   "file_extension": ".py",
   "mimetype": "text/x-python",
   "name": "python",
   "nbconvert_exporter": "python",
   "pygments_lexer": "ipython3",
   "version": "3.6.1"
  }
 },
 "nbformat": 4,
 "nbformat_minor": 2
}
